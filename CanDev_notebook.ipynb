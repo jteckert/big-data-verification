{
 "cells": [
  {
   "cell_type": "code",
   "execution_count": 231,
   "metadata": {},
   "outputs": [],
   "source": [
    "from random import randint\n",
    "import pandas as pd\n",
    "import numpy as np\n",
    "import seaborn as sns\n",
    "import matplotlib.pyplot as plt\n",
    "%matplotlib inline\n",
    "\n",
    "main_file_path = 'OHIDataSet.csv'\n",
    "data = pd.read_csv(main_file_path)\n"
   ]
  },
  {
   "cell_type": "code",
   "execution_count": 313,
   "metadata": {},
   "outputs": [],
   "source": [
    "# Assume all answers are 'NA' if they're never assigned a value.\n",
    "answers = ['NA'] * 19"
   ]
  },
  {
   "cell_type": "code",
   "execution_count": 314,
   "metadata": {},
   "outputs": [
    {
     "data": {
      "text/html": [
       "<div>\n",
       "<style scoped>\n",
       "    .dataframe tbody tr th:only-of-type {\n",
       "        vertical-align: middle;\n",
       "    }\n",
       "\n",
       "    .dataframe tbody tr th {\n",
       "        vertical-align: top;\n",
       "    }\n",
       "\n",
       "    .dataframe thead th {\n",
       "        text-align: right;\n",
       "    }\n",
       "</style>\n",
       "<table border=\"1\" class=\"dataframe\">\n",
       "  <thead>\n",
       "    <tr style=\"text-align: right;\">\n",
       "      <th></th>\n",
       "      <th>scenario</th>\n",
       "      <th>goals</th>\n",
       "      <th>long_goal</th>\n",
       "      <th>dimension</th>\n",
       "      <th>region_id</th>\n",
       "      <th>region_name</th>\n",
       "      <th>value</th>\n",
       "      <th>Unnamed: 7</th>\n",
       "    </tr>\n",
       "  </thead>\n",
       "  <tbody>\n",
       "    <tr>\n",
       "      <th>0</th>\n",
       "      <td>2012</td>\n",
       "      <td>AO</td>\n",
       "      <td>Artisanal opportunities</td>\n",
       "      <td>future</td>\n",
       "      <td>0</td>\n",
       "      <td>Global average</td>\n",
       "      <td>80.74</td>\n",
       "      <td>NaN</td>\n",
       "    </tr>\n",
       "    <tr>\n",
       "      <th>1</th>\n",
       "      <td>2012</td>\n",
       "      <td>AO</td>\n",
       "      <td>Artisanal opportunities</td>\n",
       "      <td>future</td>\n",
       "      <td>1</td>\n",
       "      <td>Cocos Islands</td>\n",
       "      <td>100.00</td>\n",
       "      <td>NaN</td>\n",
       "    </tr>\n",
       "    <tr>\n",
       "      <th>2</th>\n",
       "      <td>2012</td>\n",
       "      <td>AO</td>\n",
       "      <td>Artisanal opportunities</td>\n",
       "      <td>future</td>\n",
       "      <td>2</td>\n",
       "      <td>Christmas Island</td>\n",
       "      <td>100.00</td>\n",
       "      <td>NaN</td>\n",
       "    </tr>\n",
       "    <tr>\n",
       "      <th>3</th>\n",
       "      <td>2012</td>\n",
       "      <td>AO</td>\n",
       "      <td>Artisanal opportunities</td>\n",
       "      <td>future</td>\n",
       "      <td>3</td>\n",
       "      <td>Norfolk Island</td>\n",
       "      <td>100.00</td>\n",
       "      <td>NaN</td>\n",
       "    </tr>\n",
       "    <tr>\n",
       "      <th>4</th>\n",
       "      <td>2012</td>\n",
       "      <td>AO</td>\n",
       "      <td>Artisanal opportunities</td>\n",
       "      <td>future</td>\n",
       "      <td>4</td>\n",
       "      <td>Macquarie Island</td>\n",
       "      <td>100.00</td>\n",
       "      <td>NaN</td>\n",
       "    </tr>\n",
       "    <tr>\n",
       "      <th>5</th>\n",
       "      <td>2012</td>\n",
       "      <td>AO</td>\n",
       "      <td>Artisanal opportunities</td>\n",
       "      <td>future</td>\n",
       "      <td>5</td>\n",
       "      <td>New Caledonia</td>\n",
       "      <td>70.41</td>\n",
       "      <td>NaN</td>\n",
       "    </tr>\n",
       "    <tr>\n",
       "      <th>6</th>\n",
       "      <td>2012</td>\n",
       "      <td>AO</td>\n",
       "      <td>Artisanal opportunities</td>\n",
       "      <td>future</td>\n",
       "      <td>6</td>\n",
       "      <td>Vanuatu</td>\n",
       "      <td>49.91</td>\n",
       "      <td>NaN</td>\n",
       "    </tr>\n",
       "  </tbody>\n",
       "</table>\n",
       "</div>"
      ],
      "text/plain": [
       "   scenario goals                long_goal dimension  region_id  \\\n",
       "0      2012    AO  Artisanal opportunities    future          0   \n",
       "1      2012    AO  Artisanal opportunities    future          1   \n",
       "2      2012    AO  Artisanal opportunities    future          2   \n",
       "3      2012    AO  Artisanal opportunities    future          3   \n",
       "4      2012    AO  Artisanal opportunities    future          4   \n",
       "5      2012    AO  Artisanal opportunities    future          5   \n",
       "6      2012    AO  Artisanal opportunities    future          6   \n",
       "\n",
       "        region_name   value  Unnamed: 7  \n",
       "0    Global average   80.74         NaN  \n",
       "1     Cocos Islands  100.00         NaN  \n",
       "2  Christmas Island  100.00         NaN  \n",
       "3    Norfolk Island  100.00         NaN  \n",
       "4  Macquarie Island  100.00         NaN  \n",
       "5     New Caledonia   70.41         NaN  \n",
       "6           Vanuatu   49.91         NaN  "
      ]
     },
     "execution_count": 314,
     "metadata": {},
     "output_type": "execute_result"
    }
   ],
   "source": [
    "data.head(7)"
   ]
  },
  {
   "cell_type": "markdown",
   "metadata": {},
   "source": [
    "**<font color='tomato'> Drop the \"Unnamed: 7\" column</font>**"
   ]
  },
  {
   "cell_type": "code",
   "execution_count": 315,
   "metadata": {},
   "outputs": [],
   "source": [
    "data.drop('Unnamed: 7', axis=1, inplace=True)"
   ]
  },
  {
   "cell_type": "code",
   "execution_count": 316,
   "metadata": {},
   "outputs": [
    {
     "data": {
      "text/html": [
       "<div>\n",
       "<style scoped>\n",
       "    .dataframe tbody tr th:only-of-type {\n",
       "        vertical-align: middle;\n",
       "    }\n",
       "\n",
       "    .dataframe tbody tr th {\n",
       "        vertical-align: top;\n",
       "    }\n",
       "\n",
       "    .dataframe thead th {\n",
       "        text-align: right;\n",
       "    }\n",
       "</style>\n",
       "<table border=\"1\" class=\"dataframe\">\n",
       "  <thead>\n",
       "    <tr style=\"text-align: right;\">\n",
       "      <th></th>\n",
       "      <th>scenario</th>\n",
       "      <th>goals</th>\n",
       "      <th>long_goal</th>\n",
       "      <th>dimension</th>\n",
       "      <th>region_id</th>\n",
       "      <th>region_name</th>\n",
       "      <th>value</th>\n",
       "    </tr>\n",
       "  </thead>\n",
       "  <tbody>\n",
       "    <tr>\n",
       "      <th>0</th>\n",
       "      <td>2012</td>\n",
       "      <td>AO</td>\n",
       "      <td>Artisanal opportunities</td>\n",
       "      <td>future</td>\n",
       "      <td>0</td>\n",
       "      <td>Global average</td>\n",
       "      <td>80.74</td>\n",
       "    </tr>\n",
       "    <tr>\n",
       "      <th>1</th>\n",
       "      <td>2012</td>\n",
       "      <td>AO</td>\n",
       "      <td>Artisanal opportunities</td>\n",
       "      <td>future</td>\n",
       "      <td>1</td>\n",
       "      <td>Cocos Islands</td>\n",
       "      <td>100.00</td>\n",
       "    </tr>\n",
       "    <tr>\n",
       "      <th>2</th>\n",
       "      <td>2012</td>\n",
       "      <td>AO</td>\n",
       "      <td>Artisanal opportunities</td>\n",
       "      <td>future</td>\n",
       "      <td>2</td>\n",
       "      <td>Christmas Island</td>\n",
       "      <td>100.00</td>\n",
       "    </tr>\n",
       "    <tr>\n",
       "      <th>3</th>\n",
       "      <td>2012</td>\n",
       "      <td>AO</td>\n",
       "      <td>Artisanal opportunities</td>\n",
       "      <td>future</td>\n",
       "      <td>3</td>\n",
       "      <td>Norfolk Island</td>\n",
       "      <td>100.00</td>\n",
       "    </tr>\n",
       "    <tr>\n",
       "      <th>4</th>\n",
       "      <td>2012</td>\n",
       "      <td>AO</td>\n",
       "      <td>Artisanal opportunities</td>\n",
       "      <td>future</td>\n",
       "      <td>4</td>\n",
       "      <td>Macquarie Island</td>\n",
       "      <td>100.00</td>\n",
       "    </tr>\n",
       "  </tbody>\n",
       "</table>\n",
       "</div>"
      ],
      "text/plain": [
       "   scenario goals                long_goal dimension  region_id  \\\n",
       "0      2012    AO  Artisanal opportunities    future          0   \n",
       "1      2012    AO  Artisanal opportunities    future          1   \n",
       "2      2012    AO  Artisanal opportunities    future          2   \n",
       "3      2012    AO  Artisanal opportunities    future          3   \n",
       "4      2012    AO  Artisanal opportunities    future          4   \n",
       "\n",
       "        region_name   value  \n",
       "0    Global average   80.74  \n",
       "1     Cocos Islands  100.00  \n",
       "2  Christmas Island  100.00  \n",
       "3    Norfolk Island  100.00  \n",
       "4  Macquarie Island  100.00  "
      ]
     },
     "execution_count": 316,
     "metadata": {},
     "output_type": "execute_result"
    }
   ],
   "source": [
    "data.head()"
   ]
  },
  {
   "cell_type": "markdown",
   "metadata": {},
   "source": [
    "**<font color='tomato'> 2b-1</font>**"
   ]
  },
  {
   "cell_type": "code",
   "execution_count": 317,
   "metadata": {},
   "outputs": [
    {
     "name": "stdout",
     "output_type": "stream",
     "text": [
      "False\n"
     ]
    }
   ],
   "source": [
    "Q1 = False\n",
    "if main_file_path.endswith(\".json\" or \".xml\"):\n",
    "    Q1 = True\n",
    "else: Q1 = False\n",
    "answers[0] = Q1\n",
    "print(answers[0])"
   ]
  },
  {
   "cell_type": "markdown",
   "metadata": {},
   "source": [
    "**<font color='tomato'> 2b-3 & 2b-6 & 2b-10</font>**"
   ]
  },
  {
   "cell_type": "code",
   "execution_count": 318,
   "metadata": {},
   "outputs": [
    {
     "name": "stdout",
     "output_type": "stream",
     "text": [
      "[False, 'NA', True, 'NA', 'NA', True, 'NA', 'NA', 'NA', 'NA', 'NA', 'NA', 'NA', 'NA', 'NA', 'NA', 'NA', 'NA', 'NA']\n"
     ]
    }
   ],
   "source": [
    "headers = ['scenario', 'goals', 'long_goal', 'dimension', 'region_id', 'region_name', 'value']\n",
    "df_heads = list(data) \n",
    "\n",
    "\n",
    "# This next 'for' loop checks for answers to Questions 3 and 10. \n",
    "\n",
    "for x in range(0, 7):\n",
    "    if (df_heads[x] in headers):\n",
    "        Q6 = True\n",
    "        \n",
    "    else: \n",
    "        Q6 = False\n",
    "    \n",
    "# Check that two random elements from each column are of the same type.\n",
    "def int_same_type(z):\n",
    "    r1 = data.iloc[randint(0, data.shape[0]), z]\n",
    "    r2 = data.iloc[randint(0, data.shape[0]), z]\n",
    "    \n",
    "    if(r1.dtype == r2.dtype):\n",
    "        Q3 = True\n",
    "    \n",
    "    else: Q3 = False\n",
    "    return Q3\n",
    "        \n",
    "def str_same_type(c):\n",
    "    r1 = data.iloc[randint(0, data.shape[0]), c]\n",
    "    r2 = data.iloc[randint(0, data.shape[0]), c]\n",
    "    if(isinstance(r1, str) and isinstance(r2, str)):\n",
    "        Q3 = True\n",
    "    else: Q3 = False\n",
    "    return Q3\n",
    "\n",
    "\n",
    "if (int_same_type(0) and int_same_type(4) and int_same_type(6) == True):\n",
    "    if (str_same_type(1) and str_same_type(2) and str_same_type(3) and str_same_type(5) == True):\n",
    "        Q3 = True\n",
    "    \n",
    "\n",
    "answers[2] = Q3\n",
    "answers[5] = Q6\n",
    "    \n",
    "print(answers)\n",
    "\n",
    "   "
   ]
  },
  {
   "cell_type": "markdown",
   "metadata": {},
   "source": [
    "**<font color='tomato'> 2b-12</font>**"
   ]
  },
  {
   "cell_type": "code",
   "execution_count": 321,
   "metadata": {},
   "outputs": [
    {
     "name": "stdout",
     "output_type": "stream",
     "text": [
      "[False, 'NA', True, 'NA', 'NA', True, 'NA', 'NA', 'NA', 'NA', 'NA', True, 'NA', 'NA', 'NA', 'NA', 'NA', 'NA', 'NA']\n"
     ]
    }
   ],
   "source": [
    "# Sift through the data, checking that each \n",
    "Q12 = False\n",
    "\n",
    "#for v in range(0, 2):      Scans through all 7 columns instead of only the first one, was very slow to run though.\n",
    "for x in range(0, data.shape[0]):\n",
    "    if (pd.Series(data.iloc[x,0]).is_unique):\n",
    "        Q12 = True\n",
    "        \n",
    "    \n",
    "        \n",
    "        \n",
    "        \n",
    "answers[11] = Q12\n",
    "print(answers)"
   ]
  },
  {
   "cell_type": "code",
   "execution_count": 322,
   "metadata": {},
   "outputs": [],
   "source": [
    "counter_T = answers.count(True)\n",
    "counter_F = answers.count(False)\n",
    "counter_NA = answers.count('NA')\n",
    "counter_IDK = answers.count('IDK')\n",
    "        "
   ]
  },
  {
   "cell_type": "code",
   "execution_count": 323,
   "metadata": {},
   "outputs": [
    {
     "data": {
      "image/png": "[encoded data removed]",
      "text/plain": [
       "<Figure size 432x288 with 1 Axes>"
      ]
     },
     "metadata": {
      "needs_background": "light"
     },
     "output_type": "display_data"
    }
   ],
   "source": [
    "\n",
    "x = [counter_T, counter_F, counter_NA, counter_IDK]\n",
    "labels = ['True', 'False', 'N/A', \"I Don't Know\"]\n",
    "axis = plt.gca()\n",
    "axis.set_ylim([0, 1])\n",
    "\n",
    "plt.title('Frequency of ')\n",
    "n, bins, patches = plt.hist(x, 10, density=True, facecolor='b', alpha=.7)"
   ]
  },
  {
   "cell_type": "code",
   "execution_count": 324,
   "metadata": {},
   "outputs": [
    {
     "data": {
      "text/plain": [
       "Text(0.5,1,'Possible Answers')"
      ]
     },
     "execution_count": 324,
     "metadata": {},
     "output_type": "execute_result"
    },
    {
     "data": {
      "image/png": "[encoded data removed]",
      "text/plain": [
       "<Figure size 432x288 with 1 Axes>"
      ]
     },
     "metadata": {},
     "output_type": "display_data"
    }
   ],
   "source": [
    "size = sum(x)\n",
    "\n",
    "colours = ['green', 'red','whitesmoke', 'black']\n",
    "\n",
    "\n",
    "plt.pie(x, explode=(0.1, 0, 0, 0), labels=labels, colors=colours, autopct='%1.1f%%', shadow=True, startangle=180)\n",
    "plt.axis('equal')\n",
    "plt.title('Possible Answers')"
   ]
  },
  {
   "cell_type": "code",
   "execution_count": null,
   "metadata": {},
   "outputs": [],
   "source": []
  }
 ],
 "metadata": {
  "kernelspec": {
   "display_name": "Python 3",
   "language": "python",
   "name": "python3"
  },
  "language_info": {
   "codemirror_mode": {
    "name": "ipython",
    "version": 3
   },
   "file_extension": ".py",
   "mimetype": "text/x-python",
   "name": "python",
   "nbconvert_exporter": "python",
   "pygments_lexer": "ipython3",
   "version": "3.7.0"
  }
 },
 "nbformat": 4,
 "nbformat_minor": 2
}
